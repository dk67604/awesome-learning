{
 "cells": [
  {
   "cell_type": "code",
   "execution_count": 1,
   "id": "b0c06242",
   "metadata": {
    "_cell_guid": "b1076dfc-b9ad-4769-8c92-a6c4dae69d19",
    "_uuid": "8f2839f25d086af736a60e9eeb907d3b93b6e0e5",
    "execution": {
     "iopub.execute_input": "2022-01-21T22:14:01.570059Z",
     "iopub.status.busy": "2022-01-21T22:14:01.569226Z",
     "iopub.status.idle": "2022-01-21T22:14:07.491262Z",
     "shell.execute_reply": "2022-01-21T22:14:07.490720Z",
     "shell.execute_reply.started": "2022-01-21T21:26:09.540347Z"
    },
    "papermill": {
     "duration": 5.95734,
     "end_time": "2022-01-21T22:14:07.491402",
     "exception": false,
     "start_time": "2022-01-21T22:14:01.534062",
     "status": "completed"
    },
    "tags": []
   },
   "outputs": [
    {
     "name": "stdout",
     "output_type": "stream",
     "text": [
      "/kaggle/input/hotel-reviews-eu/Hotel_Reviews.csv\n"
     ]
    }
   ],
   "source": [
    "import numpy as np # linear algebra\n",
    "import pandas as pd # data processing, CSV file I/O (e.g. pd.read_csv)\n",
    "import nltk\n",
    "from nltk.stem import WordNetLemmatizer # analyze meaning behind a word\n",
    "import string # string processing\n",
    "import pickle # save and load py objects \n",
    "import numpy as np # data structures\n",
    "from nltk.corpus import stopwords # for extracting stop words\n",
    "from nltk import pos_tag # for POS tagging\n",
    "from nltk.corpus import wordnet # lexical database\n",
    "import matplotlib.pyplot as plt # data visualization\n",
    "import tensorflow as tf #tensorflow \n",
    "from tensorflow.keras.preprocessing.text import Tokenizer\n",
    "from tensorflow.keras.preprocessing.sequence import pad_sequences\n",
    "import tensorflow.keras as keras\n",
    "from keras.models import Sequential\n",
    "from keras.layers import Dense\n",
    "from keras.backend import eval\n",
    "from keras.layers import LSTM\n",
    "from keras.layers.embeddings import Embedding\n",
    "from keras.layers import Dropout\n",
    "from keras.layers.convolutional import Conv1D,MaxPooling1D\n",
    "# Input data files are available in the read-only \"../input/\" directory\n",
    "# For example, running this (by clicking run or pressing Shift+Enter) will list all files under the input directory\n",
    "\n",
    "import os\n",
    "for dirname, _, filenames in os.walk('/kaggle/input'):\n",
    "    for filename in filenames:\n",
    "        print(os.path.join(dirname, filename))\n",
    "\n",
    "# You can write up to 20GB to the current directory (/kaggle/working/) that gets preserved as output when you create a version using \"Save & Run All\" \n",
    "# You can also write temporary files to /kaggle/temp/, but they won't be saved outside of the current session"
   ]
  },
  {
   "cell_type": "code",
   "execution_count": 2,
   "id": "cccb3570",
   "metadata": {
    "execution": {
     "iopub.execute_input": "2022-01-21T22:14:07.537635Z",
     "iopub.status.busy": "2022-01-21T22:14:07.530741Z",
     "iopub.status.idle": "2022-01-21T22:14:08.642783Z",
     "shell.execute_reply": "2022-01-21T22:14:08.643411Z",
     "shell.execute_reply.started": "2022-01-21T21:26:15.430970Z"
    },
    "papermill": {
     "duration": 1.13359,
     "end_time": "2022-01-21T22:14:08.643600",
     "exception": false,
     "start_time": "2022-01-21T22:14:07.510010",
     "status": "completed"
    },
    "tags": []
   },
   "outputs": [
    {
     "name": "stdout",
     "output_type": "stream",
     "text": [
      "[nltk_data] Downloading package omw-1.4 to /usr/share/nltk_data...\n",
      "[nltk_data]   Unzipping corpora/omw-1.4.zip.\n",
      "[nltk_data] Downloading package wordnet to /usr/share/nltk_data...\n",
      "[nltk_data]   Package wordnet is already up-to-date!\n",
      "[nltk_data] Downloading package stopwords to /usr/share/nltk_data...\n",
      "[nltk_data]   Package stopwords is already up-to-date!\n",
      "[nltk_data] Downloading package vader_lexicon to\n",
      "[nltk_data]     /usr/share/nltk_data...\n",
      "[nltk_data]   Package vader_lexicon is already up-to-date!\n",
      "[nltk_data] Downloading package averaged_perceptron_tagger to\n",
      "[nltk_data]     /usr/share/nltk_data...\n",
      "[nltk_data]   Package averaged_perceptron_tagger is already up-to-\n",
      "[nltk_data]       date!\n"
     ]
    },
    {
     "data": {
      "text/plain": [
       "True"
      ]
     },
     "execution_count": 2,
     "metadata": {},
     "output_type": "execute_result"
    }
   ],
   "source": [
    "nltk.download('omw-1.4')\n",
    "nltk.download('wordnet')\n",
    "nltk.download('stopwords')\n",
    "nltk.download('vader_lexicon')\n",
    "nltk.download('averaged_perceptron_tagger')"
   ]
  },
  {
   "cell_type": "code",
   "execution_count": 3,
   "id": "972053a9",
   "metadata": {
    "execution": {
     "iopub.execute_input": "2022-01-21T22:14:08.681942Z",
     "iopub.status.busy": "2022-01-21T22:14:08.681140Z",
     "iopub.status.idle": "2022-01-21T22:14:08.690456Z",
     "shell.execute_reply": "2022-01-21T22:14:08.690929Z",
     "shell.execute_reply.started": "2022-01-21T21:26:16.877954Z"
    },
    "papermill": {
     "duration": 0.029528,
     "end_time": "2022-01-21T22:14:08.691065",
     "exception": false,
     "start_time": "2022-01-21T22:14:08.661537",
     "status": "completed"
    },
    "tags": []
   },
   "outputs": [],
   "source": [
    "# Functions\n",
    "def get_pos(pos_tag):\n",
    "    \"\"\"Extract wordnet value corresponding to POS tag\n",
    "    \n",
    "    Keyword arguments:\n",
    "    pos_tag : POS tag\n",
    "    \"\"\"\n",
    "    if pos_tag.startswith('J'):\n",
    "        return wordnet.ADJ\n",
    "    elif pos_tag.startswith('R'):\n",
    "        return wordnet.ADV\n",
    "    elif pos_tag.startswith('V'):\n",
    "        return wordnet.VERB\n",
    "    else:\n",
    "        return wordnet.NOUN\n",
    "\n",
    "def clean_review(review):\n",
    "    \"\"\"Data preprocessing\n",
    "    \n",
    "    Keyword arguments:\n",
    "    review : A single product review\n",
    "    \"\"\"\n",
    "    review = str(review)\n",
    "    # convert to lowercase\n",
    "    review = review.lower()\n",
    "    # tokenize and strip punctuations\n",
    "    review = [word.strip(string.punctuation) for word in review.split(' ')]\n",
    "    # remove alphanumeric words\n",
    "    review = [word for word in review if not any(char.isdigit() for char in word)]\n",
    "    # remove stop words\n",
    "    stop = stopwords.words('english')\n",
    "    review = [x for x in review if x not in stop]\n",
    "    review = [x for x in review if len(x) > 0]\n",
    "    # POS tagging\n",
    "    pos_tags = pos_tag(review)\n",
    "    # lemmatize\n",
    "    review = [WordNetLemmatizer().lemmatize(x[0], get_pos(x[1])) for x in pos_tags]\n",
    "    review = [t for t in review if len(t) > 1]\n",
    "    review = ' '.join(review)\n",
    "    return review"
   ]
  },
  {
   "cell_type": "code",
   "execution_count": 4,
   "id": "f2137e32",
   "metadata": {
    "execution": {
     "iopub.execute_input": "2022-01-21T22:14:08.730497Z",
     "iopub.status.busy": "2022-01-21T22:14:08.729868Z",
     "iopub.status.idle": "2022-01-21T22:14:13.233795Z",
     "shell.execute_reply": "2022-01-21T22:14:13.233313Z",
     "shell.execute_reply.started": "2022-01-21T21:26:16.893321Z"
    },
    "papermill": {
     "duration": 4.525637,
     "end_time": "2022-01-21T22:14:13.233922",
     "exception": false,
     "start_time": "2022-01-21T22:14:08.708285",
     "status": "completed"
    },
    "tags": []
   },
   "outputs": [
    {
     "data": {
      "text/html": [
       "<div>\n",
       "<style scoped>\n",
       "    .dataframe tbody tr th:only-of-type {\n",
       "        vertical-align: middle;\n",
       "    }\n",
       "\n",
       "    .dataframe tbody tr th {\n",
       "        vertical-align: top;\n",
       "    }\n",
       "\n",
       "    .dataframe thead th {\n",
       "        text-align: right;\n",
       "    }\n",
       "</style>\n",
       "<table border=\"1\" class=\"dataframe\">\n",
       "  <thead>\n",
       "    <tr style=\"text-align: right;\">\n",
       "      <th></th>\n",
       "      <th>Hotel_Address</th>\n",
       "      <th>Additional_Number_of_Scoring</th>\n",
       "      <th>Review_Date</th>\n",
       "      <th>Average_Score</th>\n",
       "      <th>Hotel_Name</th>\n",
       "      <th>Reviewer_Nationality</th>\n",
       "      <th>Negative_Review</th>\n",
       "      <th>Review_Total_Negative_Word_Counts</th>\n",
       "      <th>Total_Number_of_Reviews</th>\n",
       "      <th>Positive_Review</th>\n",
       "      <th>Review_Total_Positive_Word_Counts</th>\n",
       "      <th>Total_Number_of_Reviews_Reviewer_Has_Given</th>\n",
       "      <th>Reviewer_Score</th>\n",
       "      <th>Tags</th>\n",
       "      <th>days_since_review</th>\n",
       "      <th>lat</th>\n",
       "      <th>lng</th>\n",
       "    </tr>\n",
       "  </thead>\n",
       "  <tbody>\n",
       "    <tr>\n",
       "      <th>0</th>\n",
       "      <td>s Gravesandestraat 55 Oost 1092 AA Amsterdam ...</td>\n",
       "      <td>194</td>\n",
       "      <td>8/3/2017</td>\n",
       "      <td>7.7</td>\n",
       "      <td>Hotel Arena</td>\n",
       "      <td>Russia</td>\n",
       "      <td>I am so angry that i made this post available...</td>\n",
       "      <td>397</td>\n",
       "      <td>1403</td>\n",
       "      <td>Only the park outside of the hotel was beauti...</td>\n",
       "      <td>11</td>\n",
       "      <td>7</td>\n",
       "      <td>2.9</td>\n",
       "      <td>[' Leisure trip ', ' Couple ', ' Duplex Double...</td>\n",
       "      <td>0 days</td>\n",
       "      <td>52.360576</td>\n",
       "      <td>4.915968</td>\n",
       "    </tr>\n",
       "    <tr>\n",
       "      <th>1</th>\n",
       "      <td>s Gravesandestraat 55 Oost 1092 AA Amsterdam ...</td>\n",
       "      <td>194</td>\n",
       "      <td>8/3/2017</td>\n",
       "      <td>7.7</td>\n",
       "      <td>Hotel Arena</td>\n",
       "      <td>Ireland</td>\n",
       "      <td>No Negative</td>\n",
       "      <td>0</td>\n",
       "      <td>1403</td>\n",
       "      <td>No real complaints the hotel was great great ...</td>\n",
       "      <td>105</td>\n",
       "      <td>7</td>\n",
       "      <td>7.5</td>\n",
       "      <td>[' Leisure trip ', ' Couple ', ' Duplex Double...</td>\n",
       "      <td>0 days</td>\n",
       "      <td>52.360576</td>\n",
       "      <td>4.915968</td>\n",
       "    </tr>\n",
       "    <tr>\n",
       "      <th>2</th>\n",
       "      <td>s Gravesandestraat 55 Oost 1092 AA Amsterdam ...</td>\n",
       "      <td>194</td>\n",
       "      <td>7/31/2017</td>\n",
       "      <td>7.7</td>\n",
       "      <td>Hotel Arena</td>\n",
       "      <td>Australia</td>\n",
       "      <td>Rooms are nice but for elderly a bit difficul...</td>\n",
       "      <td>42</td>\n",
       "      <td>1403</td>\n",
       "      <td>Location was good and staff were ok It is cut...</td>\n",
       "      <td>21</td>\n",
       "      <td>9</td>\n",
       "      <td>7.1</td>\n",
       "      <td>[' Leisure trip ', ' Family with young childre...</td>\n",
       "      <td>3 days</td>\n",
       "      <td>52.360576</td>\n",
       "      <td>4.915968</td>\n",
       "    </tr>\n",
       "    <tr>\n",
       "      <th>3</th>\n",
       "      <td>s Gravesandestraat 55 Oost 1092 AA Amsterdam ...</td>\n",
       "      <td>194</td>\n",
       "      <td>7/31/2017</td>\n",
       "      <td>7.7</td>\n",
       "      <td>Hotel Arena</td>\n",
       "      <td>United Kingdom</td>\n",
       "      <td>My room was dirty and I was afraid to walk ba...</td>\n",
       "      <td>210</td>\n",
       "      <td>1403</td>\n",
       "      <td>Great location in nice surroundings the bar a...</td>\n",
       "      <td>26</td>\n",
       "      <td>1</td>\n",
       "      <td>3.8</td>\n",
       "      <td>[' Leisure trip ', ' Solo traveler ', ' Duplex...</td>\n",
       "      <td>3 days</td>\n",
       "      <td>52.360576</td>\n",
       "      <td>4.915968</td>\n",
       "    </tr>\n",
       "    <tr>\n",
       "      <th>4</th>\n",
       "      <td>s Gravesandestraat 55 Oost 1092 AA Amsterdam ...</td>\n",
       "      <td>194</td>\n",
       "      <td>7/24/2017</td>\n",
       "      <td>7.7</td>\n",
       "      <td>Hotel Arena</td>\n",
       "      <td>New Zealand</td>\n",
       "      <td>You When I booked with your company on line y...</td>\n",
       "      <td>140</td>\n",
       "      <td>1403</td>\n",
       "      <td>Amazing location and building Romantic setting</td>\n",
       "      <td>8</td>\n",
       "      <td>3</td>\n",
       "      <td>6.7</td>\n",
       "      <td>[' Leisure trip ', ' Couple ', ' Suite ', ' St...</td>\n",
       "      <td>10 days</td>\n",
       "      <td>52.360576</td>\n",
       "      <td>4.915968</td>\n",
       "    </tr>\n",
       "  </tbody>\n",
       "</table>\n",
       "</div>"
      ],
      "text/plain": [
       "                                       Hotel_Address  \\\n",
       "0   s Gravesandestraat 55 Oost 1092 AA Amsterdam ...   \n",
       "1   s Gravesandestraat 55 Oost 1092 AA Amsterdam ...   \n",
       "2   s Gravesandestraat 55 Oost 1092 AA Amsterdam ...   \n",
       "3   s Gravesandestraat 55 Oost 1092 AA Amsterdam ...   \n",
       "4   s Gravesandestraat 55 Oost 1092 AA Amsterdam ...   \n",
       "\n",
       "   Additional_Number_of_Scoring Review_Date  Average_Score   Hotel_Name  \\\n",
       "0                           194    8/3/2017            7.7  Hotel Arena   \n",
       "1                           194    8/3/2017            7.7  Hotel Arena   \n",
       "2                           194   7/31/2017            7.7  Hotel Arena   \n",
       "3                           194   7/31/2017            7.7  Hotel Arena   \n",
       "4                           194   7/24/2017            7.7  Hotel Arena   \n",
       "\n",
       "  Reviewer_Nationality                                    Negative_Review  \\\n",
       "0              Russia    I am so angry that i made this post available...   \n",
       "1             Ireland                                         No Negative   \n",
       "2           Australia    Rooms are nice but for elderly a bit difficul...   \n",
       "3      United Kingdom    My room was dirty and I was afraid to walk ba...   \n",
       "4         New Zealand    You When I booked with your company on line y...   \n",
       "\n",
       "   Review_Total_Negative_Word_Counts  Total_Number_of_Reviews  \\\n",
       "0                                397                     1403   \n",
       "1                                  0                     1403   \n",
       "2                                 42                     1403   \n",
       "3                                210                     1403   \n",
       "4                                140                     1403   \n",
       "\n",
       "                                     Positive_Review  \\\n",
       "0   Only the park outside of the hotel was beauti...   \n",
       "1   No real complaints the hotel was great great ...   \n",
       "2   Location was good and staff were ok It is cut...   \n",
       "3   Great location in nice surroundings the bar a...   \n",
       "4    Amazing location and building Romantic setting    \n",
       "\n",
       "   Review_Total_Positive_Word_Counts  \\\n",
       "0                                 11   \n",
       "1                                105   \n",
       "2                                 21   \n",
       "3                                 26   \n",
       "4                                  8   \n",
       "\n",
       "   Total_Number_of_Reviews_Reviewer_Has_Given  Reviewer_Score  \\\n",
       "0                                           7             2.9   \n",
       "1                                           7             7.5   \n",
       "2                                           9             7.1   \n",
       "3                                           1             3.8   \n",
       "4                                           3             6.7   \n",
       "\n",
       "                                                Tags days_since_review  \\\n",
       "0  [' Leisure trip ', ' Couple ', ' Duplex Double...            0 days   \n",
       "1  [' Leisure trip ', ' Couple ', ' Duplex Double...            0 days   \n",
       "2  [' Leisure trip ', ' Family with young childre...            3 days   \n",
       "3  [' Leisure trip ', ' Solo traveler ', ' Duplex...            3 days   \n",
       "4  [' Leisure trip ', ' Couple ', ' Suite ', ' St...           10 days   \n",
       "\n",
       "         lat       lng  \n",
       "0  52.360576  4.915968  \n",
       "1  52.360576  4.915968  \n",
       "2  52.360576  4.915968  \n",
       "3  52.360576  4.915968  \n",
       "4  52.360576  4.915968  "
      ]
     },
     "execution_count": 4,
     "metadata": {},
     "output_type": "execute_result"
    }
   ],
   "source": [
    "# Import dataset\n",
    "hr_raw_df = pd.read_csv('/kaggle/input/hotel-reviews-eu/Hotel_Reviews.csv')\n",
    "hr_raw_df.head()"
   ]
  },
  {
   "cell_type": "code",
   "execution_count": 5,
   "id": "07a68004",
   "metadata": {
    "execution": {
     "iopub.execute_input": "2022-01-21T22:14:13.275951Z",
     "iopub.status.busy": "2022-01-21T22:14:13.272776Z",
     "iopub.status.idle": "2022-01-21T22:14:13.826019Z",
     "shell.execute_reply": "2022-01-21T22:14:13.825536Z",
     "shell.execute_reply.started": "2022-01-21T21:26:21.203691Z"
    },
    "papermill": {
     "duration": 0.57372,
     "end_time": "2022-01-21T22:14:13.826153",
     "exception": false,
     "start_time": "2022-01-21T22:14:13.252433",
     "status": "completed"
    },
    "tags": []
   },
   "outputs": [
    {
     "data": {
      "text/html": [
       "<div>\n",
       "<style scoped>\n",
       "    .dataframe tbody tr th:only-of-type {\n",
       "        vertical-align: middle;\n",
       "    }\n",
       "\n",
       "    .dataframe tbody tr th {\n",
       "        vertical-align: top;\n",
       "    }\n",
       "\n",
       "    .dataframe thead th {\n",
       "        text-align: right;\n",
       "    }\n",
       "</style>\n",
       "<table border=\"1\" class=\"dataframe\">\n",
       "  <thead>\n",
       "    <tr style=\"text-align: right;\">\n",
       "      <th></th>\n",
       "      <th>review</th>\n",
       "      <th>score</th>\n",
       "    </tr>\n",
       "  </thead>\n",
       "  <tbody>\n",
       "    <tr>\n",
       "      <th>0</th>\n",
       "      <td>I am so angry that i made this post available...</td>\n",
       "      <td>2.9</td>\n",
       "    </tr>\n",
       "    <tr>\n",
       "      <th>1</th>\n",
       "      <td>No Negative  No real complaints the hotel was ...</td>\n",
       "      <td>7.5</td>\n",
       "    </tr>\n",
       "    <tr>\n",
       "      <th>2</th>\n",
       "      <td>Rooms are nice but for elderly a bit difficul...</td>\n",
       "      <td>7.1</td>\n",
       "    </tr>\n",
       "    <tr>\n",
       "      <th>3</th>\n",
       "      <td>My room was dirty and I was afraid to walk ba...</td>\n",
       "      <td>3.8</td>\n",
       "    </tr>\n",
       "    <tr>\n",
       "      <th>4</th>\n",
       "      <td>You When I booked with your company on line y...</td>\n",
       "      <td>6.7</td>\n",
       "    </tr>\n",
       "    <tr>\n",
       "      <th>5</th>\n",
       "      <td>Backyard of the hotel is total mess shouldn t...</td>\n",
       "      <td>6.7</td>\n",
       "    </tr>\n",
       "    <tr>\n",
       "      <th>6</th>\n",
       "      <td>Cleaner did not change our sheet and duvet ev...</td>\n",
       "      <td>4.6</td>\n",
       "    </tr>\n",
       "    <tr>\n",
       "      <th>7</th>\n",
       "      <td>Apart from the price for the brekfast Everyth...</td>\n",
       "      <td>10.0</td>\n",
       "    </tr>\n",
       "    <tr>\n",
       "      <th>8</th>\n",
       "      <td>Even though the pictures show very clean room...</td>\n",
       "      <td>6.5</td>\n",
       "    </tr>\n",
       "    <tr>\n",
       "      <th>9</th>\n",
       "      <td>The aircondition makes so much noise and its ...</td>\n",
       "      <td>7.9</td>\n",
       "    </tr>\n",
       "  </tbody>\n",
       "</table>\n",
       "</div>"
      ],
      "text/plain": [
       "                                              review  score\n",
       "0   I am so angry that i made this post available...    2.9\n",
       "1  No Negative  No real complaints the hotel was ...    7.5\n",
       "2   Rooms are nice but for elderly a bit difficul...    7.1\n",
       "3   My room was dirty and I was afraid to walk ba...    3.8\n",
       "4   You When I booked with your company on line y...    6.7\n",
       "5   Backyard of the hotel is total mess shouldn t...    6.7\n",
       "6   Cleaner did not change our sheet and duvet ev...    4.6\n",
       "7   Apart from the price for the brekfast Everyth...   10.0\n",
       "8   Even though the pictures show very clean room...    6.5\n",
       "9   The aircondition makes so much noise and its ...    7.9"
      ]
     },
     "execution_count": 5,
     "metadata": {},
     "output_type": "execute_result"
    }
   ],
   "source": [
    "# Concatenate positive and negative reviews\n",
    "hr_df = hr_raw_df.copy()\n",
    "hr_df['review'] = hr_raw_df['Negative_Review'] + ' ' + hr_raw_df['Positive_Review']\n",
    "# Select relevant columns\n",
    "hr_df['score'] = hr_df['Reviewer_Score']\n",
    "hr_df = hr_df[['review', 'score']]\n",
    "hr_df.head(10) # Table 1"
   ]
  },
  {
   "cell_type": "code",
   "execution_count": 6,
   "id": "157c9610",
   "metadata": {
    "execution": {
     "iopub.execute_input": "2022-01-21T22:14:13.896221Z",
     "iopub.status.busy": "2022-01-21T22:14:13.879699Z",
     "iopub.status.idle": "2022-01-21T22:14:14.427626Z",
     "shell.execute_reply": "2022-01-21T22:14:14.428446Z",
     "shell.execute_reply.started": "2022-01-21T21:26:21.923666Z"
    },
    "papermill": {
     "duration": 0.586452,
     "end_time": "2022-01-21T22:14:14.432270",
     "exception": false,
     "start_time": "2022-01-21T22:14:13.845818",
     "status": "completed"
    },
    "tags": []
   },
   "outputs": [
    {
     "data": {
      "text/html": [
       "<div>\n",
       "<style scoped>\n",
       "    .dataframe tbody tr th:only-of-type {\n",
       "        vertical-align: middle;\n",
       "    }\n",
       "\n",
       "    .dataframe tbody tr th {\n",
       "        vertical-align: top;\n",
       "    }\n",
       "\n",
       "    .dataframe thead th {\n",
       "        text-align: right;\n",
       "    }\n",
       "</style>\n",
       "<table border=\"1\" class=\"dataframe\">\n",
       "  <thead>\n",
       "    <tr style=\"text-align: right;\">\n",
       "      <th></th>\n",
       "      <th>review</th>\n",
       "      <th>score</th>\n",
       "    </tr>\n",
       "  </thead>\n",
       "  <tbody>\n",
       "    <tr>\n",
       "      <th>0</th>\n",
       "      <td>I am so angry that i made this post available...</td>\n",
       "      <td>2.9</td>\n",
       "    </tr>\n",
       "    <tr>\n",
       "      <th>1</th>\n",
       "      <td>No real complaints the hotel was great great...</td>\n",
       "      <td>7.5</td>\n",
       "    </tr>\n",
       "    <tr>\n",
       "      <th>2</th>\n",
       "      <td>Rooms are nice but for elderly a bit difficul...</td>\n",
       "      <td>7.1</td>\n",
       "    </tr>\n",
       "    <tr>\n",
       "      <th>3</th>\n",
       "      <td>My room was dirty and I was afraid to walk ba...</td>\n",
       "      <td>3.8</td>\n",
       "    </tr>\n",
       "    <tr>\n",
       "      <th>4</th>\n",
       "      <td>You When I booked with your company on line y...</td>\n",
       "      <td>6.7</td>\n",
       "    </tr>\n",
       "    <tr>\n",
       "      <th>5</th>\n",
       "      <td>Backyard of the hotel is total mess shouldn t...</td>\n",
       "      <td>6.7</td>\n",
       "    </tr>\n",
       "    <tr>\n",
       "      <th>6</th>\n",
       "      <td>Cleaner did not change our sheet and duvet ev...</td>\n",
       "      <td>4.6</td>\n",
       "    </tr>\n",
       "    <tr>\n",
       "      <th>7</th>\n",
       "      <td>Apart from the price for the brekfast Everyth...</td>\n",
       "      <td>10.0</td>\n",
       "    </tr>\n",
       "    <tr>\n",
       "      <th>8</th>\n",
       "      <td>Even though the pictures show very clean room...</td>\n",
       "      <td>6.5</td>\n",
       "    </tr>\n",
       "    <tr>\n",
       "      <th>9</th>\n",
       "      <td>The aircondition makes so much noise and its ...</td>\n",
       "      <td>7.9</td>\n",
       "    </tr>\n",
       "  </tbody>\n",
       "</table>\n",
       "</div>"
      ],
      "text/plain": [
       "                                              review  score\n",
       "0   I am so angry that i made this post available...    2.9\n",
       "1    No real complaints the hotel was great great...    7.5\n",
       "2   Rooms are nice but for elderly a bit difficul...    7.1\n",
       "3   My room was dirty and I was afraid to walk ba...    3.8\n",
       "4   You When I booked with your company on line y...    6.7\n",
       "5   Backyard of the hotel is total mess shouldn t...    6.7\n",
       "6   Cleaner did not change our sheet and duvet ev...    4.6\n",
       "7   Apart from the price for the brekfast Everyth...   10.0\n",
       "8   Even though the pictures show very clean room...    6.5\n",
       "9   The aircondition makes so much noise and its ...    7.9"
      ]
     },
     "execution_count": 6,
     "metadata": {},
     "output_type": "execute_result"
    }
   ],
   "source": [
    "hr_df['review'] = hr_df['review'].apply(lambda x: x.replace('No Negative', '').replace('No Positive', ''))\n",
    "hr_df.head(10)"
   ]
  },
  {
   "cell_type": "code",
   "execution_count": 7,
   "id": "e9f02f50",
   "metadata": {
    "execution": {
     "iopub.execute_input": "2022-01-21T22:14:14.538203Z",
     "iopub.status.busy": "2022-01-21T22:14:14.537315Z",
     "iopub.status.idle": "2022-01-21T22:28:23.079102Z",
     "shell.execute_reply": "2022-01-21T22:28:23.079536Z",
     "shell.execute_reply.started": "2022-01-21T21:26:22.675554Z"
    },
    "papermill": {
     "duration": 848.58025,
     "end_time": "2022-01-21T22:28:23.079699",
     "exception": false,
     "start_time": "2022-01-21T22:14:14.499449",
     "status": "completed"
    },
    "tags": []
   },
   "outputs": [
    {
     "data": {
      "text/html": [
       "<div>\n",
       "<style scoped>\n",
       "    .dataframe tbody tr th:only-of-type {\n",
       "        vertical-align: middle;\n",
       "    }\n",
       "\n",
       "    .dataframe tbody tr th {\n",
       "        vertical-align: top;\n",
       "    }\n",
       "\n",
       "    .dataframe thead th {\n",
       "        text-align: right;\n",
       "    }\n",
       "</style>\n",
       "<table border=\"1\" class=\"dataframe\">\n",
       "  <thead>\n",
       "    <tr style=\"text-align: right;\">\n",
       "      <th></th>\n",
       "      <th>review</th>\n",
       "      <th>score</th>\n",
       "    </tr>\n",
       "  </thead>\n",
       "  <tbody>\n",
       "    <tr>\n",
       "      <th>0</th>\n",
       "      <td>angry make post available via possible site us...</td>\n",
       "      <td>2.9</td>\n",
       "    </tr>\n",
       "    <tr>\n",
       "      <th>1</th>\n",
       "      <td>real complaint hotel great great location surr...</td>\n",
       "      <td>7.5</td>\n",
       "    </tr>\n",
       "    <tr>\n",
       "      <th>2</th>\n",
       "      <td>room nice elderly bit difficult room two story...</td>\n",
       "      <td>7.1</td>\n",
       "    </tr>\n",
       "    <tr>\n",
       "      <th>3</th>\n",
       "      <td>room dirty afraid walk barefoot floor look cle...</td>\n",
       "      <td>3.8</td>\n",
       "    </tr>\n",
       "    <tr>\n",
       "      <th>4</th>\n",
       "      <td>book company line show picture room think get ...</td>\n",
       "      <td>6.7</td>\n",
       "    </tr>\n",
       "    <tr>\n",
       "      <th>5</th>\n",
       "      <td>backyard hotel total mess happen hotel star go...</td>\n",
       "      <td>6.7</td>\n",
       "    </tr>\n",
       "    <tr>\n",
       "      <th>6</th>\n",
       "      <td>clean change sheet duvet everyday make bed als...</td>\n",
       "      <td>4.6</td>\n",
       "    </tr>\n",
       "    <tr>\n",
       "      <th>7</th>\n",
       "      <td>apart price brekfast everything good good loca...</td>\n",
       "      <td>10.0</td>\n",
       "    </tr>\n",
       "    <tr>\n",
       "      <th>8</th>\n",
       "      <td>even though picture show clean room actual roo...</td>\n",
       "      <td>6.5</td>\n",
       "    </tr>\n",
       "    <tr>\n",
       "      <th>9</th>\n",
       "      <td>aircondition make much noise hard sleep night ...</td>\n",
       "      <td>7.9</td>\n",
       "    </tr>\n",
       "  </tbody>\n",
       "</table>\n",
       "</div>"
      ],
      "text/plain": [
       "                                              review  score\n",
       "0  angry make post available via possible site us...    2.9\n",
       "1  real complaint hotel great great location surr...    7.5\n",
       "2  room nice elderly bit difficult room two story...    7.1\n",
       "3  room dirty afraid walk barefoot floor look cle...    3.8\n",
       "4  book company line show picture room think get ...    6.7\n",
       "5  backyard hotel total mess happen hotel star go...    6.7\n",
       "6  clean change sheet duvet everyday make bed als...    4.6\n",
       "7  apart price brekfast everything good good loca...   10.0\n",
       "8  even though picture show clean room actual roo...    6.5\n",
       "9  aircondition make much noise hard sleep night ...    7.9"
      ]
     },
     "execution_count": 7,
     "metadata": {},
     "output_type": "execute_result"
    }
   ],
   "source": [
    "# Apply data preprocessing\n",
    "hr_df['review'] = hr_df['review'].apply(lambda x: clean_review(x))\n",
    "hr_df.head(10)"
   ]
  },
  {
   "cell_type": "code",
   "execution_count": 8,
   "id": "d70539d7",
   "metadata": {
    "execution": {
     "iopub.execute_input": "2022-01-21T22:28:23.125221Z",
     "iopub.status.busy": "2022-01-21T22:28:23.124476Z",
     "iopub.status.idle": "2022-01-21T22:28:23.426852Z",
     "shell.execute_reply": "2022-01-21T22:28:23.426268Z",
     "shell.execute_reply.started": "2022-01-21T21:40:20.624176Z"
    },
    "papermill": {
     "duration": 0.328117,
     "end_time": "2022-01-21T22:28:23.427003",
     "exception": false,
     "start_time": "2022-01-21T22:28:23.098886",
     "status": "completed"
    },
    "tags": []
   },
   "outputs": [
    {
     "data": {
      "text/html": [
       "<div>\n",
       "<style scoped>\n",
       "    .dataframe tbody tr th:only-of-type {\n",
       "        vertical-align: middle;\n",
       "    }\n",
       "\n",
       "    .dataframe tbody tr th {\n",
       "        vertical-align: top;\n",
       "    }\n",
       "\n",
       "    .dataframe thead th {\n",
       "        text-align: right;\n",
       "    }\n",
       "</style>\n",
       "<table border=\"1\" class=\"dataframe\">\n",
       "  <thead>\n",
       "    <tr style=\"text-align: right;\">\n",
       "      <th></th>\n",
       "      <th>review</th>\n",
       "      <th>score</th>\n",
       "      <th>label</th>\n",
       "    </tr>\n",
       "  </thead>\n",
       "  <tbody>\n",
       "    <tr>\n",
       "      <th>0</th>\n",
       "      <td>angry make post available via possible site us...</td>\n",
       "      <td>2.9</td>\n",
       "      <td>negative</td>\n",
       "    </tr>\n",
       "    <tr>\n",
       "      <th>1</th>\n",
       "      <td>real complaint hotel great great location surr...</td>\n",
       "      <td>7.5</td>\n",
       "      <td>positive</td>\n",
       "    </tr>\n",
       "    <tr>\n",
       "      <th>2</th>\n",
       "      <td>room nice elderly bit difficult room two story...</td>\n",
       "      <td>7.1</td>\n",
       "      <td>positive</td>\n",
       "    </tr>\n",
       "    <tr>\n",
       "      <th>3</th>\n",
       "      <td>room dirty afraid walk barefoot floor look cle...</td>\n",
       "      <td>3.8</td>\n",
       "      <td>negative</td>\n",
       "    </tr>\n",
       "    <tr>\n",
       "      <th>4</th>\n",
       "      <td>book company line show picture room think get ...</td>\n",
       "      <td>6.7</td>\n",
       "      <td>positive</td>\n",
       "    </tr>\n",
       "    <tr>\n",
       "      <th>5</th>\n",
       "      <td>backyard hotel total mess happen hotel star go...</td>\n",
       "      <td>6.7</td>\n",
       "      <td>positive</td>\n",
       "    </tr>\n",
       "    <tr>\n",
       "      <th>6</th>\n",
       "      <td>clean change sheet duvet everyday make bed als...</td>\n",
       "      <td>4.6</td>\n",
       "      <td>negative</td>\n",
       "    </tr>\n",
       "    <tr>\n",
       "      <th>7</th>\n",
       "      <td>apart price brekfast everything good good loca...</td>\n",
       "      <td>10.0</td>\n",
       "      <td>positive</td>\n",
       "    </tr>\n",
       "    <tr>\n",
       "      <th>8</th>\n",
       "      <td>even though picture show clean room actual roo...</td>\n",
       "      <td>6.5</td>\n",
       "      <td>positive</td>\n",
       "    </tr>\n",
       "    <tr>\n",
       "      <th>9</th>\n",
       "      <td>aircondition make much noise hard sleep night ...</td>\n",
       "      <td>7.9</td>\n",
       "      <td>positive</td>\n",
       "    </tr>\n",
       "  </tbody>\n",
       "</table>\n",
       "</div>"
      ],
      "text/plain": [
       "                                              review  score     label\n",
       "0  angry make post available via possible site us...    2.9  negative\n",
       "1  real complaint hotel great great location surr...    7.5  positive\n",
       "2  room nice elderly bit difficult room two story...    7.1  positive\n",
       "3  room dirty afraid walk barefoot floor look cle...    3.8  negative\n",
       "4  book company line show picture room think get ...    6.7  positive\n",
       "5  backyard hotel total mess happen hotel star go...    6.7  positive\n",
       "6  clean change sheet duvet everyday make bed als...    4.6  negative\n",
       "7  apart price brekfast everything good good loca...   10.0  positive\n",
       "8  even though picture show clean room actual roo...    6.5  positive\n",
       "9  aircondition make much noise hard sleep night ...    7.9  positive"
      ]
     },
     "execution_count": 8,
     "metadata": {},
     "output_type": "execute_result"
    }
   ],
   "source": [
    "# Generate labels\n",
    "hr_median_score = np.median(np.sort(hr_df['score'].unique()))\n",
    "hr_df['label'] = hr_df['score'].apply(lambda x: 'negative' if x < hr_median_score \n",
    "                                      else('neutral' if x == hr_median_score else 'positive'))\n",
    "hr_df.head(10)"
   ]
  },
  {
   "cell_type": "code",
   "execution_count": 9,
   "id": "f18ed8d4",
   "metadata": {
    "execution": {
     "iopub.execute_input": "2022-01-21T22:28:23.476213Z",
     "iopub.status.busy": "2022-01-21T22:28:23.474678Z",
     "iopub.status.idle": "2022-01-21T22:28:23.476864Z",
     "shell.execute_reply": "2022-01-21T22:28:23.477259Z",
     "shell.execute_reply.started": "2022-01-21T21:40:21.094217Z"
    },
    "papermill": {
     "duration": 0.026462,
     "end_time": "2022-01-21T22:28:23.477380",
     "exception": false,
     "start_time": "2022-01-21T22:28:23.450918",
     "status": "completed"
    },
    "tags": []
   },
   "outputs": [],
   "source": [
    "sentences = hr_df['review']\n",
    "labels = hr_df['label']"
   ]
  },
  {
   "cell_type": "code",
   "execution_count": 10,
   "id": "075cee96",
   "metadata": {
    "execution": {
     "iopub.execute_input": "2022-01-21T22:28:23.589223Z",
     "iopub.status.busy": "2022-01-21T22:28:23.553123Z",
     "iopub.status.idle": "2022-01-21T22:28:34.277911Z",
     "shell.execute_reply": "2022-01-21T22:28:34.277414Z",
     "shell.execute_reply.started": "2022-01-21T21:40:21.101882Z"
    },
    "papermill": {
     "duration": 10.781126,
     "end_time": "2022-01-21T22:28:34.278049",
     "exception": false,
     "start_time": "2022-01-21T22:28:23.496923",
     "status": "completed"
    },
    "tags": []
   },
   "outputs": [],
   "source": [
    "#Create Tokenizer to tokenize and produce a bag of words\n",
    "tokenizer = Tokenizer()\n",
    "tokenizer.fit_on_texts(sentences)"
   ]
  },
  {
   "cell_type": "code",
   "execution_count": 11,
   "id": "6038ced2",
   "metadata": {
    "execution": {
     "iopub.execute_input": "2022-01-21T22:28:34.376752Z",
     "iopub.status.busy": "2022-01-21T22:28:34.366518Z",
     "iopub.status.idle": "2022-01-21T22:28:44.481297Z",
     "shell.execute_reply": "2022-01-21T22:28:44.481693Z",
     "shell.execute_reply.started": "2022-01-21T21:40:31.700798Z"
    },
    "papermill": {
     "duration": 10.183648,
     "end_time": "2022-01-21T22:28:44.481849",
     "exception": false,
     "start_time": "2022-01-21T22:28:34.298201",
     "status": "completed"
    },
    "tags": []
   },
   "outputs": [
    {
     "name": "stderr",
     "output_type": "stream",
     "text": [
      "/opt/conda/lib/python3.7/site-packages/ipykernel_launcher.py:1: VisibleDeprecationWarning: Creating an ndarray from ragged nested sequences (which is a list-or-tuple of lists-or-tuples-or ndarrays with different lengths or shapes) is deprecated. If you meant to do this, you must specify 'dtype=object' when creating the ndarray\n",
      "  \"\"\"Entry point for launching an IPython kernel.\n"
     ]
    }
   ],
   "source": [
    "text_sequences = np.array(tokenizer.texts_to_sequences(sentences))\n",
    "sequence_dict = tokenizer.word_index\n",
    "word_dict = dict((num, val) for (val, num) in sequence_dict.items())"
   ]
  },
  {
   "cell_type": "code",
   "execution_count": 12,
   "id": "b0aa5677",
   "metadata": {
    "execution": {
     "iopub.execute_input": "2022-01-21T22:28:44.535145Z",
     "iopub.status.busy": "2022-01-21T22:28:44.529883Z",
     "iopub.status.idle": "2022-01-21T22:28:48.649787Z",
     "shell.execute_reply": "2022-01-21T22:28:48.649296Z",
     "shell.execute_reply.started": "2022-01-21T21:48:07.338134Z"
    },
    "papermill": {
     "duration": 4.147845,
     "end_time": "2022-01-21T22:28:48.649926",
     "exception": false,
     "start_time": "2022-01-21T22:28:44.502081",
     "status": "completed"
    },
    "tags": []
   },
   "outputs": [],
   "source": [
    "# Map word to numeric code for feeding in training\n",
    "review_cleans = [doc.split(' ') for doc in sentences]\n",
    "reviews_encoded = [];\n",
    "for i,review in enumerate(review_cleans):\n",
    "    reviews_encoded.append([sequence_dict[x] for x in review if x !=''])"
   ]
  },
  {
   "cell_type": "code",
   "execution_count": 13,
   "id": "98a4950e",
   "metadata": {
    "execution": {
     "iopub.execute_input": "2022-01-21T22:28:48.730297Z",
     "iopub.status.busy": "2022-01-21T22:28:48.706524Z",
     "iopub.status.idle": "2022-01-21T22:28:52.591016Z",
     "shell.execute_reply": "2022-01-21T22:28:52.590559Z",
     "shell.execute_reply.started": "2022-01-21T21:48:15.139348Z"
    },
    "papermill": {
     "duration": 3.921192,
     "end_time": "2022-01-21T22:28:52.591139",
     "exception": false,
     "start_time": "2022-01-21T22:28:48.669947",
     "status": "completed"
    },
    "tags": []
   },
   "outputs": [
    {
     "data": {
      "text/plain": [
       "(array([  528.,  6511., 19559., 21009., 26068., 24900., 25915., 24884.,\n",
       "        24046., 22591., 21300., 19709., 18450., 17228., 16248., 14915.,\n",
       "        14015., 13008., 12179., 11373., 10416.,  9856.,  8963., 15987.]),\n",
       " array([ 0,  1,  2,  3,  4,  5,  6,  7,  8,  9, 10, 11, 12, 13, 14, 15, 16,\n",
       "        17, 18, 19, 20, 21, 22, 23, 24]),\n",
       " <BarContainer object of 24 artists>)"
      ]
     },
     "execution_count": 13,
     "metadata": {},
     "output_type": "execute_result"
    },
    {
     "data": {
      "image/png": "[encoded data removed]",
      "text/plain": [
       "<Figure size 432x288 with 1 Axes>"
      ]
     },
     "metadata": {
      "needs_background": "light"
     },
     "output_type": "display_data"
    }
   ],
   "source": [
    "lengths = [len(x) for x in reviews_encoded]\n",
    "plt.hist(lengths, bins=range(25))"
   ]
  },
  {
   "cell_type": "code",
   "execution_count": 14,
   "id": "ca1965b2",
   "metadata": {
    "execution": {
     "iopub.execute_input": "2022-01-21T22:28:52.671235Z",
     "iopub.status.busy": "2022-01-21T22:28:52.660533Z",
     "iopub.status.idle": "2022-01-21T22:28:56.759565Z",
     "shell.execute_reply": "2022-01-21T22:28:56.759072Z",
     "shell.execute_reply.started": "2022-01-21T21:48:27.882205Z"
    },
    "papermill": {
     "duration": 4.14774,
     "end_time": "2022-01-21T22:28:56.759719",
     "exception": false,
     "start_time": "2022-01-21T22:28:52.611979",
     "status": "completed"
    },
    "tags": []
   },
   "outputs": [],
   "source": [
    "max_cap =8;\n",
    "X = pad_sequences(reviews_encoded, maxlen=max_cap, truncating='post')\n",
    "Y = np.array([[0,1] if 'negative' in label else [1,0] for label in labels])"
   ]
  },
  {
   "cell_type": "code",
   "execution_count": 15,
   "id": "3e22a6fd",
   "metadata": {
    "execution": {
     "iopub.execute_input": "2022-01-21T22:28:56.817407Z",
     "iopub.status.busy": "2022-01-21T22:28:56.816540Z",
     "iopub.status.idle": "2022-01-21T22:28:56.818514Z",
     "shell.execute_reply": "2022-01-21T22:28:56.818901Z",
     "shell.execute_reply.started": "2022-01-21T21:48:56.885088Z"
    },
    "papermill": {
     "duration": 0.038398,
     "end_time": "2022-01-21T22:28:56.819045",
     "exception": false,
     "start_time": "2022-01-21T22:28:56.780647",
     "status": "completed"
    },
    "tags": []
   },
   "outputs": [],
   "source": [
    "# Adding code to reproduce the training\n",
    "np.random.seed(1024);\n",
    "random_posits = np.arange(len(X))\n",
    "np.random.shuffle(random_posits);"
   ]
  },
  {
   "cell_type": "code",
   "execution_count": 16,
   "id": "98edd2ab",
   "metadata": {
    "execution": {
     "iopub.execute_input": "2022-01-21T22:28:56.865839Z",
     "iopub.status.busy": "2022-01-21T22:28:56.865202Z",
     "iopub.status.idle": "2022-01-21T22:28:56.918763Z",
     "shell.execute_reply": "2022-01-21T22:28:56.918260Z",
     "shell.execute_reply.started": "2022-01-21T21:50:05.182920Z"
    },
    "papermill": {
     "duration": 0.078884,
     "end_time": "2022-01-21T22:28:56.918900",
     "exception": false,
     "start_time": "2022-01-21T22:28:56.840016",
     "status": "completed"
    },
    "tags": []
   },
   "outputs": [],
   "source": [
    "# Spritting data into train, test, eval\n",
    "X = X[random_posits]\n",
    "Y = Y[random_posits]\n",
    "train_perc = int(0.85 * len(X))\n",
    "val_perc = int(0.93 * len(X))\n",
    "X_train, Y_train = X[:train_perc], Y[:train_perc]\n",
    "X_val, Y_val = X[train_perc:val_perc], Y[train_perc:val_perc]\n",
    "X_test, Y_test = X[val_perc:], Y[val_perc:]"
   ]
  },
  {
   "cell_type": "code",
   "execution_count": 17,
   "id": "c577ce50",
   "metadata": {
    "execution": {
     "iopub.execute_input": "2022-01-21T22:28:56.966408Z",
     "iopub.status.busy": "2022-01-21T22:28:56.965904Z",
     "iopub.status.idle": "2022-01-21T22:28:59.872094Z",
     "shell.execute_reply": "2022-01-21T22:28:59.872501Z",
     "shell.execute_reply.started": "2022-01-21T21:50:33.035687Z"
    },
    "papermill": {
     "duration": 2.932824,
     "end_time": "2022-01-21T22:28:59.872653",
     "exception": false,
     "start_time": "2022-01-21T22:28:56.939829",
     "status": "completed"
    },
    "tags": []
   },
   "outputs": [
    {
     "name": "stderr",
     "output_type": "stream",
     "text": [
      "2022-01-21 22:28:57.042171: I tensorflow/stream_executor/cuda/cuda_gpu_executor.cc:937] successful NUMA node read from SysFS had negative value (-1), but there must be at least one NUMA node, so returning NUMA node zero\n",
      "2022-01-21 22:28:57.204019: I tensorflow/stream_executor/cuda/cuda_gpu_executor.cc:937] successful NUMA node read from SysFS had negative value (-1), but there must be at least one NUMA node, so returning NUMA node zero\n",
      "2022-01-21 22:28:57.204782: I tensorflow/stream_executor/cuda/cuda_gpu_executor.cc:937] successful NUMA node read from SysFS had negative value (-1), but there must be at least one NUMA node, so returning NUMA node zero\n",
      "2022-01-21 22:28:57.206000: I tensorflow/core/platform/cpu_feature_guard.cc:142] This TensorFlow binary is optimized with oneAPI Deep Neural Network Library (oneDNN) to use the following CPU instructions in performance-critical operations:  AVX2 AVX512F FMA\n",
      "To enable them in other operations, rebuild TensorFlow with the appropriate compiler flags.\n",
      "2022-01-21 22:28:57.207173: I tensorflow/stream_executor/cuda/cuda_gpu_executor.cc:937] successful NUMA node read from SysFS had negative value (-1), but there must be at least one NUMA node, so returning NUMA node zero\n",
      "2022-01-21 22:28:57.207874: I tensorflow/stream_executor/cuda/cuda_gpu_executor.cc:937] successful NUMA node read from SysFS had negative value (-1), but there must be at least one NUMA node, so returning NUMA node zero\n",
      "2022-01-21 22:28:57.208492: I tensorflow/stream_executor/cuda/cuda_gpu_executor.cc:937] successful NUMA node read from SysFS had negative value (-1), but there must be at least one NUMA node, so returning NUMA node zero\n",
      "2022-01-21 22:28:59.059247: I tensorflow/stream_executor/cuda/cuda_gpu_executor.cc:937] successful NUMA node read from SysFS had negative value (-1), but there must be at least one NUMA node, so returning NUMA node zero\n",
      "2022-01-21 22:28:59.060110: I tensorflow/stream_executor/cuda/cuda_gpu_executor.cc:937] successful NUMA node read from SysFS had negative value (-1), but there must be at least one NUMA node, so returning NUMA node zero\n",
      "2022-01-21 22:28:59.060808: I tensorflow/stream_executor/cuda/cuda_gpu_executor.cc:937] successful NUMA node read from SysFS had negative value (-1), but there must be at least one NUMA node, so returning NUMA node zero\n",
      "2022-01-21 22:28:59.061422: I tensorflow/core/common_runtime/gpu/gpu_device.cc:1510] Created device /job:localhost/replica:0/task:0/device:GPU:0 with 15403 MB memory:  -> device: 0, name: Tesla P100-PCIE-16GB, pci bus id: 0000:00:04.0, compute capability: 6.0\n"
     ]
    },
    {
     "name": "stdout",
     "output_type": "stream",
     "text": [
      "Model: \"sequential\"\n",
      "_________________________________________________________________\n",
      "Layer (type)                 Output Shape              Param #   \n",
      "=================================================================\n",
      "embedding (Embedding)        (None, 8, 8)              564568    \n",
      "_________________________________________________________________\n",
      "lstm (LSTM)                  (None, 8, 200)            167200    \n",
      "_________________________________________________________________\n",
      "lstm_1 (LSTM)                (None, 200)               320800    \n",
      "_________________________________________________________________\n",
      "dense (Dense)                (None, 100)               20100     \n",
      "_________________________________________________________________\n",
      "dense_1 (Dense)              (None, 2)                 202       \n",
      "=================================================================\n",
      "Total params: 1,072,870\n",
      "Trainable params: 1,072,870\n",
      "Non-trainable params: 0\n",
      "_________________________________________________________________\n",
      "None\n"
     ]
    }
   ],
   "source": [
    "# Create Model\n",
    "model = Sequential();\n",
    "model.add(Embedding(len(word_dict)+1, max_cap, input_length=max_cap));\n",
    "#adding a LSTM layer of dim 1--\n",
    "model.add(LSTM(200, return_sequences=True));\n",
    "model.add(LSTM(200, return_sequences=False));\n",
    "#adding a dense layer with activation function of relu\n",
    "model.add(Dense(100, activation='relu',kernel_initializer='uniform'));#best 50,relu\n",
    "#adding the final output activation with activation function of softmax\n",
    "model.add(Dense(2, activation='sigmoid', kernel_initializer='uniform'));\n",
    "print(model.summary());"
   ]
  },
  {
   "cell_type": "code",
   "execution_count": 18,
   "id": "6e3e52d8",
   "metadata": {
    "execution": {
     "iopub.execute_input": "2022-01-21T22:28:59.921106Z",
     "iopub.status.busy": "2022-01-21T22:28:59.920318Z",
     "iopub.status.idle": "2022-01-21T22:28:59.928870Z",
     "shell.execute_reply": "2022-01-21T22:28:59.929287Z",
     "shell.execute_reply.started": "2022-01-21T21:51:18.602680Z"
    },
    "papermill": {
     "duration": 0.035218,
     "end_time": "2022-01-21T22:28:59.929418",
     "exception": false,
     "start_time": "2022-01-21T22:28:59.894200",
     "status": "completed"
    },
    "tags": []
   },
   "outputs": [],
   "source": [
    "#Compile the model\n",
    "model.compile(loss='binary_crossentropy', optimizer='adam', metrics=['accuracy'])"
   ]
  },
  {
   "cell_type": "code",
   "execution_count": 19,
   "id": "1c3e8694",
   "metadata": {
    "execution": {
     "iopub.execute_input": "2022-01-21T22:28:59.976483Z",
     "iopub.status.busy": "2022-01-21T22:28:59.975896Z",
     "iopub.status.idle": "2022-01-21T22:07:06.992353Z",
     "shell.execute_reply": "2022-01-21T22:07:06.991657Z",
     "shell.execute_reply.started": "2022-01-21T21:52:10.214646Z"
    },
    "papermill": {
     "duration": null,
     "end_time": null,
     "exception": false,
     "start_time": "2022-01-21T22:28:59.950721",
     "status": "running"
    },
    "tags": []
   },
   "outputs": [
    {
     "name": "stderr",
     "output_type": "stream",
     "text": [
      "2022-01-21 22:29:00.044184: I tensorflow/compiler/mlir/mlir_graph_optimization_pass.cc:185] None of the MLIR Optimization Passes are enabled (registered 2)\n"
     ]
    },
    {
     "name": "stdout",
     "output_type": "stream",
     "text": [
      "Epoch 1/5\n"
     ]
    },
    {
     "name": "stderr",
     "output_type": "stream",
     "text": [
      "2022-01-21 22:29:03.869943: I tensorflow/stream_executor/cuda/cuda_dnn.cc:369] Loaded cuDNN version 8005\n"
     ]
    },
    {
     "name": "stdout",
     "output_type": "stream",
     "text": [
      "27399/27399 [==============================] - 179s 6ms/step - loss: 0.2448 - accuracy: 0.9049 - val_loss: 0.2364 - val_accuracy: 0.9072\n",
      "Epoch 2/5\n",
      "27399/27399 [==============================] - 176s 6ms/step - loss: 0.2276 - accuracy: 0.9095 - val_loss: 0.2347 - val_accuracy: 0.9079\n",
      "Epoch 3/5\n",
      "20680/27399 [=====================>........] - ETA: 41s - loss: 0.2197 - accuracy: 0.9125"
     ]
    }
   ],
   "source": [
    "# Fit the model and train for 5 epochs, save this history for plot\n",
    "history = model.fit(X_train, Y_train, batch_size=16, epochs=5, validation_data=(X_val, Y_val))"
   ]
  },
  {
   "cell_type": "code",
   "execution_count": null,
   "id": "4b878a18",
   "metadata": {
    "execution": {
     "iopub.execute_input": "2022-01-21T22:07:13.038864Z",
     "iopub.status.busy": "2022-01-21T22:07:13.038142Z",
     "iopub.status.idle": "2022-01-21T22:07:18.187056Z",
     "shell.execute_reply": "2022-01-21T22:07:18.186268Z",
     "shell.execute_reply.started": "2022-01-21T22:07:13.038826Z"
    },
    "papermill": {
     "duration": null,
     "end_time": null,
     "exception": null,
     "start_time": null,
     "status": "pending"
    },
    "tags": []
   },
   "outputs": [],
   "source": [
    "score = model.evaluate(X_test, Y_test)\n",
    "print(\"Test accuracy: %0.4f%%\" % (score[1]*100))"
   ]
  },
  {
   "cell_type": "code",
   "execution_count": null,
   "id": "7cc70698",
   "metadata": {
    "execution": {
     "iopub.execute_input": "2022-01-21T22:07:33.912465Z",
     "iopub.status.busy": "2022-01-21T22:07:33.912068Z",
     "iopub.status.idle": "2022-01-21T22:07:40.666401Z",
     "shell.execute_reply": "2022-01-21T22:07:40.665672Z",
     "shell.execute_reply.started": "2022-01-21T22:07:33.912423Z"
    },
    "papermill": {
     "duration": null,
     "end_time": null,
     "exception": null,
     "start_time": null,
     "status": "pending"
    },
    "tags": []
   },
   "outputs": [],
   "source": [
    "# Save the model\n",
    "model.save('./my_model')"
   ]
  },
  {
   "cell_type": "code",
   "execution_count": null,
   "id": "c542046e",
   "metadata": {
    "execution": {
     "iopub.execute_input": "2022-01-21T22:13:27.575198Z",
     "iopub.status.busy": "2022-01-21T22:13:27.574883Z",
     "iopub.status.idle": "2022-01-21T22:13:27.785073Z",
     "shell.execute_reply": "2022-01-21T22:13:27.784440Z",
     "shell.execute_reply.started": "2022-01-21T22:13:27.575164Z"
    },
    "papermill": {
     "duration": null,
     "end_time": null,
     "exception": null,
     "start_time": null,
     "status": "pending"
    },
    "tags": []
   },
   "outputs": [],
   "source": [
    "plt.plot(history.history['loss'])\n",
    "plt.xlabel('Epoch')\n",
    "plt.ylim([0, max(plt.ylim())])\n",
    "plt.ylabel('Loss [Binary Crossentropy]')\n",
    "plt.title('Keras training progress');"
   ]
  },
  {
   "cell_type": "code",
   "execution_count": null,
   "id": "92e68ce3",
   "metadata": {
    "papermill": {
     "duration": null,
     "end_time": null,
     "exception": null,
     "start_time": null,
     "status": "pending"
    },
    "tags": []
   },
   "outputs": [],
   "source": []
  }
 ],
 "metadata": {
  "kernelspec": {
   "display_name": "Python 3 (ipykernel)",
   "language": "python",
   "name": "python3"
  },
  "language_info": {
   "codemirror_mode": {
    "name": "ipython",
    "version": 3
   },
   "file_extension": ".py",
   "mimetype": "text/x-python",
   "name": "python",
   "nbconvert_exporter": "python",
   "pygments_lexer": "ipython3",
   "version": "3.9.9"
  },
  "papermill": {
   "default_parameters": {},
   "duration": null,
   "end_time": null,
   "environment_variables": {},
   "exception": null,
   "input_path": "__notebook__.ipynb",
   "output_path": "__notebook__.ipynb",
   "parameters": {},
   "start_time": "2022-01-21T22:13:53.551797",
   "version": "2.3.3"
  }
 },
 "nbformat": 4,
 "nbformat_minor": 5
}
