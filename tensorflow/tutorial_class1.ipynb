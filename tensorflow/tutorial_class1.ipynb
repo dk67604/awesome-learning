{
 "cells": [
  {
   "cell_type": "code",
   "execution_count": 1,
   "id": "b2067d9c",
   "metadata": {},
   "outputs": [
    {
     "name": "stdout",
     "output_type": "stream",
     "text": [
      "Init Plugin\n",
      "Init Graph Optimizer\n",
      "Init Kernel\n",
      "Tensor Flow Version: 2.5.0\n",
      "Keras Version: 2.5.0\n",
      "\n",
      "Python 3.9.9 | packaged by conda-forge | (main, Dec 20 2021, 02:41:07) \n",
      "[Clang 11.1.0 ]\n",
      "Pandas 1.3.5\n",
      "Scikit-Learn 1.0.2\n",
      "GPU is available\n"
     ]
    }
   ],
   "source": [
    "# What version of Python do you have?\n",
    "import sys\n",
    "\n",
    "import tensorflow.keras\n",
    "import pandas as pd\n",
    "import sklearn as sk\n",
    "import tensorflow as tf\n",
    "\n",
    "print(f\"Tensor Flow Version: {tf.__version__}\")\n",
    "print(f\"Keras Version: {tensorflow.keras.__version__}\")\n",
    "print()\n",
    "print(f\"Python {sys.version}\")\n",
    "print(f\"Pandas {pd.__version__}\")\n",
    "print(f\"Scikit-Learn {sk.__version__}\")\n",
    "gpu = len(tf.config.list_physical_devices('GPU'))>0\n",
    "print(\"GPU is\", \"available\" if gpu else \"NOT AVAILABLE\")"
   ]
  },
  {
   "cell_type": "markdown",
   "id": "052c4346",
   "metadata": {},
   "source": [
    "### Different Ways to calculate Gradient"
   ]
  },
  {
   "cell_type": "code",
   "execution_count": 3,
   "id": "5fcb8183",
   "metadata": {},
   "outputs": [],
   "source": [
    "def fu(x1, x2): \n",
    "\treturn x1 ** 2.0 - x1 * 3  + x2 ** 2\n",
    "def fu_minimzie():\n",
    "\treturn x1 ** 2.0 - x1 * 3  + x2 ** 2\n",
    "def reset():\t\n",
    "\tx1 = tf.Variable(10.0) \n",
    "\tx2 = tf.Variable(10.0) \n",
    "\treturn x1, x2"
   ]
  },
  {
   "cell_type": "code",
   "execution_count": 4,
   "id": "605559c0",
   "metadata": {},
   "outputs": [
    {
     "name": "stdout",
     "output_type": "stream",
     "text": [
      "Metal device set to: Apple M1\n",
      "y = 170.0, x1 = 10.0, x2 = 10.0\n"
     ]
    },
    {
     "name": "stderr",
     "output_type": "stream",
     "text": [
      "2022-01-16 00:12:41.940053: I tensorflow/core/common_runtime/pluggable_device/pluggable_device_factory.cc:305] Could not identify NUMA node of platform GPU ID 0, defaulting to 0. Your kernel may not have been built with NUMA support.\n",
      "2022-01-16 00:12:41.940287: I tensorflow/core/common_runtime/pluggable_device/pluggable_device_factory.cc:271] Created TensorFlow device (/job:localhost/replica:0/task:0/device:GPU:0 with 0 MB memory) -> physical PluggableDevice (device: 0, name: METAL, pci bus id: <undefined>)\n"
     ]
    },
    {
     "name": "stdout",
     "output_type": "stream",
     "text": [
      "y = 108.0, x1 = 8.3, x2 = 8.0\n",
      "y = 68.3, x1 = 6.9, x2 = 6.4\n",
      "y = 42.9, x1 = 5.9, x2 = 5.1\n",
      "y = 26.6, x1 = 5.0, x2 = 4.1\n",
      "y = 16.2, x1 = 4.3, x2 = 3.3\n",
      "y = 9.6, x1 = 3.7, x2 = 2.6\n",
      "y = 5.3, x1 = 3.3, x2 = 2.1\n",
      "y = 2.6, x1 = 2.9, x2 = 1.7\n",
      "y = 0.9, x1 = 2.6, x2 = 1.3\n",
      "y = -0.3, x1 = 2.4, x2 = 1.1\n",
      "y = -1.0, x1 = 2.2, x2 = 0.9\n",
      "y = -1.4, x1 = 2.1, x2 = 0.7\n",
      "y = -1.7, x1 = 2.0, x2 = 0.5\n",
      "y = -1.9, x1 = 1.9, x2 = 0.4\n",
      "y = -2.0, x1 = 1.8, x2 = 0.4\n",
      "y = -2.1, x1 = 1.7, x2 = 0.3\n",
      "y = -2.2, x1 = 1.7, x2 = 0.2\n",
      "y = -2.2, x1 = 1.7, x2 = 0.2\n",
      "y = -2.2, x1 = 1.6, x2 = 0.1\n",
      "y = -2.2, x1 = 1.6, x2 = 0.1\n",
      "y = -2.2, x1 = 1.6, x2 = 0.1\n",
      "y = -2.2, x1 = 1.6, x2 = 0.1\n",
      "y = -2.2, x1 = 1.6, x2 = 0.1\n",
      "y = -2.2, x1 = 1.5, x2 = 0.0\n",
      "y = -2.2, x1 = 1.5, x2 = 0.0\n",
      "y = -2.2, x1 = 1.5, x2 = 0.0\n",
      "y = -2.2, x1 = 1.5, x2 = 0.0\n",
      "y = -2.2, x1 = 1.5, x2 = 0.0\n",
      "y = -2.2, x1 = 1.5, x2 = 0.0\n",
      "y = -2.2, x1 = 1.5, x2 = 0.0\n",
      "y = -2.2, x1 = 1.5, x2 = 0.0\n",
      "y = -2.2, x1 = 1.5, x2 = 0.0\n",
      "y = -2.2, x1 = 1.5, x2 = 0.0\n",
      "y = -2.2, x1 = 1.5, x2 = 0.0\n",
      "y = -2.2, x1 = 1.5, x2 = 0.0\n",
      "y = -2.2, x1 = 1.5, x2 = 0.0\n",
      "y = -2.2, x1 = 1.5, x2 = 0.0\n",
      "y = -2.2, x1 = 1.5, x2 = 0.0\n",
      "y = -2.2, x1 = 1.5, x2 = 0.0\n",
      "y = -2.2, x1 = 1.5, x2 = 0.0\n",
      "y = -2.2, x1 = 1.5, x2 = 0.0\n",
      "y = -2.2, x1 = 1.5, x2 = 0.0\n",
      "y = -2.2, x1 = 1.5, x2 = 0.0\n",
      "y = -2.2, x1 = 1.5, x2 = 0.0\n",
      "y = -2.2, x1 = 1.5, x2 = 0.0\n",
      "y = -2.2, x1 = 1.5, x2 = 0.0\n",
      "y = -2.3, x1 = 1.5, x2 = 0.0\n",
      "y = -2.2, x1 = 1.5, x2 = 0.0\n",
      "y = -2.3, x1 = 1.5, x2 = 0.0\n"
     ]
    }
   ],
   "source": [
    "x1, x2 = reset()\n",
    "opt = tf.keras.optimizers.SGD(learning_rate=0.1)\n",
    "for i in range(50):\n",
    "\tprint ('y = {:.1f}, x1 = {:.1f}, x2 = {:.1f}'.format(fu(x1, x2).numpy(), x1.numpy(), x2.numpy()))\n",
    "\topt.minimize(fu_minimzie, var_list=[x1, x2])"
   ]
  },
  {
   "cell_type": "code",
   "execution_count": 5,
   "id": "624bad2e",
   "metadata": {},
   "outputs": [
    {
     "name": "stdout",
     "output_type": "stream",
     "text": [
      "y = 170.0, x1 = 10.0, x2 = 10.0,  grads0 = 17.0, grads1 = 20.0 \n",
      "y = 108.0, x1 = 8.3, x2 = 8.0,  grads0 = 13.6, grads1 = 16.0 \n",
      "y = 68.3, x1 = 6.9, x2 = 6.4,  grads0 = 10.9, grads1 = 12.8 \n",
      "y = 42.9, x1 = 5.9, x2 = 5.1,  grads0 = 8.7, grads1 = 10.2 \n",
      "y = 26.6, x1 = 5.0, x2 = 4.1,  grads0 = 7.0, grads1 = 8.2 \n",
      "y = 16.2, x1 = 4.3, x2 = 3.3,  grads0 = 5.6, grads1 = 6.6 \n",
      "y = 9.6, x1 = 3.7, x2 = 2.6,  grads0 = 4.5, grads1 = 5.2 \n",
      "y = 5.3, x1 = 3.3, x2 = 2.1,  grads0 = 3.6, grads1 = 4.2 \n",
      "y = 2.6, x1 = 2.9, x2 = 1.7,  grads0 = 2.9, grads1 = 3.4 \n",
      "y = 0.9, x1 = 2.6, x2 = 1.3,  grads0 = 2.3, grads1 = 2.7 \n",
      "y = -0.3, x1 = 2.4, x2 = 1.1,  grads0 = 1.8, grads1 = 2.1 \n",
      "y = -1.0, x1 = 2.2, x2 = 0.9,  grads0 = 1.5, grads1 = 1.7 \n",
      "y = -1.4, x1 = 2.1, x2 = 0.7,  grads0 = 1.2, grads1 = 1.4 \n",
      "y = -1.7, x1 = 2.0, x2 = 0.5,  grads0 = 0.9, grads1 = 1.1 \n",
      "y = -1.9, x1 = 1.9, x2 = 0.4,  grads0 = 0.7, grads1 = 0.9 \n",
      "y = -2.0, x1 = 1.8, x2 = 0.4,  grads0 = 0.6, grads1 = 0.7 \n",
      "y = -2.1, x1 = 1.7, x2 = 0.3,  grads0 = 0.5, grads1 = 0.6 \n",
      "y = -2.2, x1 = 1.7, x2 = 0.2,  grads0 = 0.4, grads1 = 0.5 \n",
      "y = -2.2, x1 = 1.7, x2 = 0.2,  grads0 = 0.3, grads1 = 0.4 \n",
      "y = -2.2, x1 = 1.6, x2 = 0.1,  grads0 = 0.2, grads1 = 0.3 \n",
      "y = -2.2, x1 = 1.6, x2 = 0.1,  grads0 = 0.2, grads1 = 0.2 \n",
      "y = -2.2, x1 = 1.6, x2 = 0.1,  grads0 = 0.2, grads1 = 0.2 \n",
      "y = -2.2, x1 = 1.6, x2 = 0.1,  grads0 = 0.1, grads1 = 0.1 \n",
      "y = -2.2, x1 = 1.6, x2 = 0.1,  grads0 = 0.1, grads1 = 0.1 \n",
      "y = -2.2, x1 = 1.5, x2 = 0.0,  grads0 = 0.1, grads1 = 0.1 \n",
      "y = -2.2, x1 = 1.5, x2 = 0.0,  grads0 = 0.1, grads1 = 0.1 \n",
      "y = -2.2, x1 = 1.5, x2 = 0.0,  grads0 = 0.1, grads1 = 0.1 \n",
      "y = -2.2, x1 = 1.5, x2 = 0.0,  grads0 = 0.0, grads1 = 0.0 \n",
      "y = -2.2, x1 = 1.5, x2 = 0.0,  grads0 = 0.0, grads1 = 0.0 \n",
      "y = -2.2, x1 = 1.5, x2 = 0.0,  grads0 = 0.0, grads1 = 0.0 \n",
      "y = -2.2, x1 = 1.5, x2 = 0.0,  grads0 = 0.0, grads1 = 0.0 \n",
      "y = -2.2, x1 = 1.5, x2 = 0.0,  grads0 = 0.0, grads1 = 0.0 \n",
      "y = -2.2, x1 = 1.5, x2 = 0.0,  grads0 = 0.0, grads1 = 0.0 \n",
      "y = -2.2, x1 = 1.5, x2 = 0.0,  grads0 = 0.0, grads1 = 0.0 \n",
      "y = -2.2, x1 = 1.5, x2 = 0.0,  grads0 = 0.0, grads1 = 0.0 \n",
      "y = -2.2, x1 = 1.5, x2 = 0.0,  grads0 = 0.0, grads1 = 0.0 \n",
      "y = -2.2, x1 = 1.5, x2 = 0.0,  grads0 = 0.0, grads1 = 0.0 \n",
      "y = -2.2, x1 = 1.5, x2 = 0.0,  grads0 = 0.0, grads1 = 0.0 \n",
      "y = -2.2, x1 = 1.5, x2 = 0.0,  grads0 = 0.0, grads1 = 0.0 \n",
      "y = -2.2, x1 = 1.5, x2 = 0.0,  grads0 = 0.0, grads1 = 0.0 \n",
      "y = -2.2, x1 = 1.5, x2 = 0.0,  grads0 = 0.0, grads1 = 0.0 \n",
      "y = -2.2, x1 = 1.5, x2 = 0.0,  grads0 = 0.0, grads1 = 0.0 \n",
      "y = -2.2, x1 = 1.5, x2 = 0.0,  grads0 = 0.0, grads1 = 0.0 \n",
      "y = -2.2, x1 = 1.5, x2 = 0.0,  grads0 = 0.0, grads1 = 0.0 \n",
      "y = -2.2, x1 = 1.5, x2 = 0.0,  grads0 = 0.0, grads1 = 0.0 \n",
      "y = -2.2, x1 = 1.5, x2 = 0.0,  grads0 = 0.0, grads1 = 0.0 \n",
      "y = -2.2, x1 = 1.5, x2 = 0.0,  grads0 = 0.0, grads1 = 0.0 \n",
      "y = -2.3, x1 = 1.5, x2 = 0.0,  grads0 = 0.0, grads1 = 0.0 \n",
      "y = -2.2, x1 = 1.5, x2 = 0.0,  grads0 = 0.0, grads1 = 0.0 \n",
      "y = -2.3, x1 = 1.5, x2 = 0.0,  grads0 = 0.0, grads1 = 0.0 \n"
     ]
    }
   ],
   "source": [
    "x1, x2 = reset()\n",
    "opt = tf.keras.optimizers.SGD(learning_rate=0.1)\n",
    "for i in range(50):\n",
    "\twith tf.GradientTape() as tape:\n",
    "\t\ty = fu(x1, x2)\n",
    "\tgrads = tape.gradient(y, [x1, x2])\n",
    "\tprocessed_grads = [g for g in grads]\n",
    "\tgrads_and_vars = zip(processed_grads, [x1, x2])\n",
    "\tprint ('y = {:.1f}, x1 = {:.1f}, x2 = {:.1f},  grads0 = {:.1f}, grads1 = {:.1f} '.format(y.numpy(), x1.numpy(), x2.numpy(), grads[0].numpy(), grads[1].numpy()))\n",
    "\topt.apply_gradients(grads_and_vars)"
   ]
  },
  {
   "cell_type": "code",
   "execution_count": 2,
   "id": "dec31bac",
   "metadata": {},
   "outputs": [
    {
     "name": "stdout",
     "output_type": "stream",
     "text": [
      "Metal device set to: Apple M1\n"
     ]
    },
    {
     "name": "stderr",
     "output_type": "stream",
     "text": [
      "2022-01-17 14:34:06.055290: I tensorflow/core/common_runtime/pluggable_device/pluggable_device_factory.cc:305] Could not identify NUMA node of platform GPU ID 0, defaulting to 0. Your kernel may not have been built with NUMA support.\n",
      "2022-01-17 14:34:06.056156: I tensorflow/core/common_runtime/pluggable_device/pluggable_device_factory.cc:271] Created TensorFlow device (/job:localhost/replica:0/task:0/device:GPU:0 with 0 MB memory) -> physical PluggableDevice (device: 0, name: METAL, pci bus id: <undefined>)\n"
     ]
    }
   ],
   "source": [
    "x = tf.constant([[1.,2.,3.],\n",
    "                [4.,5.,6]])"
   ]
  },
  {
   "cell_type": "code",
   "execution_count": 4,
   "id": "c5d0ee2e",
   "metadata": {},
   "outputs": [
    {
     "name": "stdout",
     "output_type": "stream",
     "text": [
      "tf.Tensor(\n",
      "[[1. 2. 3.]\n",
      " [4. 5. 6.]], shape=(2, 3), dtype=float32)\n",
      "<dtype: 'float32'>\n",
      "(2, 3)\n"
     ]
    }
   ],
   "source": [
    "print(x)\n",
    "print(x.dtype)\n",
    "print(x.shape)"
   ]
  },
  {
   "cell_type": "code",
   "execution_count": 5,
   "id": "ec2ff0d9",
   "metadata": {},
   "outputs": [
    {
     "data": {
      "text/plain": [
       "<tf.Tensor: shape=(2, 3), dtype=float32, numpy=\n",
       "array([[ 2.,  4.,  6.],\n",
       "       [ 8., 10., 12.]], dtype=float32)>"
      ]
     },
     "execution_count": 5,
     "metadata": {},
     "output_type": "execute_result"
    }
   ],
   "source": [
    "x + x"
   ]
  },
  {
   "cell_type": "code",
   "execution_count": 6,
   "id": "c51a800c",
   "metadata": {},
   "outputs": [
    {
     "data": {
      "text/plain": [
       "<tf.Tensor: shape=(2, 3), dtype=float32, numpy=\n",
       "array([[ 5., 10., 15.],\n",
       "       [20., 25., 30.]], dtype=float32)>"
      ]
     },
     "execution_count": 6,
     "metadata": {},
     "output_type": "execute_result"
    }
   ],
   "source": [
    "5 * x"
   ]
  },
  {
   "cell_type": "code",
   "execution_count": 7,
   "id": "b31038a5",
   "metadata": {},
   "outputs": [
    {
     "data": {
      "text/plain": [
       "<tf.Tensor: shape=(2, 2), dtype=float32, numpy=\n",
       "array([[14., 32.],\n",
       "       [32., 77.]], dtype=float32)>"
      ]
     },
     "execution_count": 7,
     "metadata": {},
     "output_type": "execute_result"
    }
   ],
   "source": [
    "x @tf.transpose(x)"
   ]
  },
  {
   "cell_type": "code",
   "execution_count": 8,
   "id": "9d56d9c1",
   "metadata": {},
   "outputs": [
    {
     "data": {
      "text/plain": [
       "<tf.Tensor: shape=(6, 3), dtype=float32, numpy=\n",
       "array([[1., 2., 3.],\n",
       "       [4., 5., 6.],\n",
       "       [1., 2., 3.],\n",
       "       [4., 5., 6.],\n",
       "       [1., 2., 3.],\n",
       "       [4., 5., 6.]], dtype=float32)>"
      ]
     },
     "execution_count": 8,
     "metadata": {},
     "output_type": "execute_result"
    }
   ],
   "source": [
    "tf.concat([x,x,x],axis=0)"
   ]
  },
  {
   "cell_type": "code",
   "execution_count": 13,
   "id": "4e826752",
   "metadata": {},
   "outputs": [
    {
     "data": {
      "text/plain": [
       "<tf.Tensor: shape=(2, 3), dtype=float32, numpy=\n",
       "array([[0.09003057, 0.24472848, 0.665241  ],\n",
       "       [0.09003057, 0.24472848, 0.665241  ]], dtype=float32)>"
      ]
     },
     "execution_count": 13,
     "metadata": {},
     "output_type": "execute_result"
    }
   ],
   "source": [
    "tf.nn.softmax(x,axis =-1)"
   ]
  },
  {
   "cell_type": "code",
   "execution_count": 14,
   "id": "c6eb9ec2",
   "metadata": {},
   "outputs": [],
   "source": [
    "import matplotlib\n",
    "from matplotlib import pyplot as plt"
   ]
  },
  {
   "cell_type": "code",
   "execution_count": 15,
   "id": "51128a9e",
   "metadata": {},
   "outputs": [],
   "source": [
    "matplotlib.rcParams['figure.figsize'] = [9,6]"
   ]
  },
  {
   "cell_type": "code",
   "execution_count": 16,
   "id": "e26a8796",
   "metadata": {},
   "outputs": [
    {
     "data": {
      "text/plain": [
       "<matplotlib.legend.Legend at 0x2a1f87a90>"
      ]
     },
     "execution_count": 16,
     "metadata": {},
     "output_type": "execute_result"
    },
    {
     "data": {
      "image/png": "[encoded data removed]",
      "text/plain": [
       "<Figure size 648x432 with 1 Axes>"
      ]
     },
     "metadata": {
      "needs_background": "light"
     },
     "output_type": "display_data"
    }
   ],
   "source": [
    "x = tf.linspace(-2,2,201)\n",
    "x = tf.cast(x, tf.float32)\n",
    "def f(x):\n",
    "    y = x**2 + 2*x -5\n",
    "    return y\n",
    "y = f(x) + tf.random.normal(shape=[201])\n",
    "plt.plot(x.numpy(), y.numpy(),'.',label = 'Data')\n",
    "plt.plot(x,f(x), label='Ground Truth')\n",
    "plt.legend()"
   ]
  },
  {
   "cell_type": "code",
   "execution_count": 20,
   "id": "95ec92cb",
   "metadata": {},
   "outputs": [],
   "source": [
    "## Create Model\n",
    "class Model(tf.keras.Model):\n",
    "    def __init__(self, units):\n",
    "        super().__init__()\n",
    "        self.dense1 = tf.keras.layers.Dense(units=units,\n",
    "                                           activation=tf.nn.relu,\n",
    "                                           kernel_initializer=tf.random.normal,\n",
    "                                           bias_initializer=tf.random.normal)\n",
    "        self.dense2 = tf.keras.layers.Dense(1)\n",
    "    def call(self,x,training = True):\n",
    "        x = x[:,tf.newaxis]\n",
    "        x = self.dense1(x)\n",
    "        x = self.dense2(x)\n",
    "        return tf.squeeze(x, axis=1)"
   ]
  },
  {
   "cell_type": "code",
   "execution_count": 21,
   "id": "e319f830",
   "metadata": {},
   "outputs": [],
   "source": [
    "model = Model(64)"
   ]
  },
  {
   "cell_type": "code",
   "execution_count": 22,
   "id": "c2eeb074",
   "metadata": {},
   "outputs": [
    {
     "data": {
      "image/png": "[encoded data removed]",
      "text/plain": [
       "<Figure size 648x432 with 1 Axes>"
      ]
     },
     "metadata": {
      "needs_background": "light"
     },
     "output_type": "display_data"
    }
   ],
   "source": [
    "plt.plot(x.numpy(), y.numpy(), '.', label='data')\n",
    "plt.plot(x, f(x),  label='Ground truth')\n",
    "plt.plot(x, model(x), label='Untrained predictions')\n",
    "plt.title('Before training')\n",
    "plt.legend();"
   ]
  },
  {
   "cell_type": "code",
   "execution_count": 24,
   "id": "a27fc7b8",
   "metadata": {},
   "outputs": [
    {
     "name": "stdout",
     "output_type": "stream",
     "text": [
      "Mean Squared Error:26.689\n",
      "Mean Squared Error:0.992\n",
      "Mean Squared Error:0.960\n",
      "Mean Squared Error:0.939\n",
      "Mean Squared Error:0.923\n",
      "Mean Squared Error:0.912\n",
      "Mean Squared Error:0.904\n",
      "Mean Squared Error:0.898\n",
      "Mean Squared Error:0.894\n",
      "Mean Squared Error:0.890\n"
     ]
    }
   ],
   "source": [
    "# Basic training loop\n",
    "variables = model.variables\n",
    "optimizer = tf.optimizers.SGD(learning_rate=0.01)\n",
    "for step in range(1000):\n",
    "    with tf.GradientTape() as tape:\n",
    "        prediction = model(x)\n",
    "        error = (y-prediction)**2\n",
    "        mean_error = tf.reduce_mean(error)\n",
    "    gradient = tape.gradient(mean_error,variables)\n",
    "    optimizer.apply_gradients(zip(gradient,variables))\n",
    "    if step % 100 ==0:\n",
    "        print(f'Mean Squared Error:{mean_error.numpy():0.3f}')"
   ]
  },
  {
   "cell_type": "code",
   "execution_count": 25,
   "id": "81b2b2cc",
   "metadata": {},
   "outputs": [
    {
     "data": {
      "image/png": "[encoded data removed]",
      "text/plain": [
       "<Figure size 648x432 with 1 Axes>"
      ]
     },
     "metadata": {
      "needs_background": "light"
     },
     "output_type": "display_data"
    }
   ],
   "source": [
    "plt.plot(x.numpy(),y.numpy(), '.', label=\"data\")\n",
    "plt.plot(x, f(x),  label='Ground truth')\n",
    "plt.plot(x, model(x), label='Trained predictions')\n",
    "plt.title('After training')\n",
    "plt.legend();"
   ]
  },
  {
   "cell_type": "code",
   "execution_count": 26,
   "id": "0e9b613a",
   "metadata": {},
   "outputs": [],
   "source": [
    "# Common training utilities already present in tf.keras"
   ]
  },
  {
   "cell_type": "code",
   "execution_count": 27,
   "id": "f7a7fccd",
   "metadata": {},
   "outputs": [
    {
     "name": "stderr",
     "output_type": "stream",
     "text": [
      "2022-01-17 17:23:58.442046: I tensorflow/compiler/mlir/mlir_graph_optimization_pass.cc:176] None of the MLIR Optimization Passes are enabled (registered 2)\n",
      "2022-01-17 17:23:58.445736: W tensorflow/core/platform/profile_utils/cpu_utils.cc:128] Failed to get CPU frequency: 0 Hz\n",
      "2022-01-17 17:23:58.586647: I tensorflow/core/grappler/optimizers/custom_graph_optimizer_registry.cc:112] Plugin optimizer for device_type GPU is enabled.\n"
     ]
    },
    {
     "name": "stdout",
     "output_type": "stream",
     "text": [
      "INFO:tensorflow:Assets written to: ./my_model/assets\n"
     ]
    },
    {
     "name": "stderr",
     "output_type": "stream",
     "text": [
      "2022-01-17 17:24:02.905630: W tensorflow/python/util/util.cc:348] Sets are not currently considered sequences, but this may change in the future, so consider avoiding using them.\n"
     ]
    }
   ],
   "source": [
    "new_model = Model(64)\n",
    "new_model.compile(\n",
    "    loss=tf.keras.losses.MSE,\n",
    "    optimizer=tf.optimizers.SGD(learning_rate=0.01))\n",
    "\n",
    "history = new_model.fit(x, y,\n",
    "                        epochs=100,\n",
    "                        batch_size=32,\n",
    "                        verbose=0)\n",
    "\n",
    "model.save('./my_model')"
   ]
  },
  {
   "cell_type": "code",
   "execution_count": 28,
   "id": "3d762e2d",
   "metadata": {},
   "outputs": [
    {
     "data": {
      "image/png": "[encoded data removed]",
      "text/plain": [
       "<Figure size 648x432 with 1 Axes>"
      ]
     },
     "metadata": {
      "needs_background": "light"
     },
     "output_type": "display_data"
    }
   ],
   "source": [
    "plt.plot(history.history['loss'])\n",
    "plt.xlabel('Epoch')\n",
    "plt.ylim([0, max(plt.ylim())])\n",
    "plt.ylabel('Loss [Mean Squared Error]')\n",
    "plt.title('Keras training progress');"
   ]
  },
  {
   "cell_type": "code",
   "execution_count": null,
   "id": "2a3db5b1",
   "metadata": {},
   "outputs": [],
   "source": []
  }
 ],
 "metadata": {
  "kernelspec": {
   "display_name": "Python 3.9 (tensorflow)",
   "language": "python",
   "name": "tensorflow"
  },
  "language_info": {
   "codemirror_mode": {
    "name": "ipython",
    "version": 3
   },
   "file_extension": ".py",
   "mimetype": "text/x-python",
   "name": "python",
   "nbconvert_exporter": "python",
   "pygments_lexer": "ipython3",
   "version": "3.9.9"
  }
 },
 "nbformat": 4,
 "nbformat_minor": 5
}
